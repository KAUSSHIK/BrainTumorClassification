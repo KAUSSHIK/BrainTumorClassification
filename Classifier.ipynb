{
 "cells": [
  {
   "cell_type": "markdown",
   "source": [
    "#BRAIN TUMOR CLASSIFICATION"
   ],
   "metadata": {
    "collapsed": false
   }
  },
  {
   "cell_type": "markdown",
   "source": [
    "#IMPORTS"
   ],
   "metadata": {
    "collapsed": false
   }
  },
  {
   "cell_type": "code",
   "execution_count": null,
   "outputs": [],
   "source": [
    "# Import for creating visualizations such as plots and charts.\n",
    "import matplotlib.pyplot as plt\n",
    "\n",
    "# Import for fundamental numerical computations, arrays, and math operations.\n",
    "import numpy as np\n",
    "\n",
    "# Import for data manipulation and analysis with DataFrames for tabular data.\n",
    "import pandas as pd\n",
    "\n",
    "# Import for enhancing matplotlib with attractive statistical plots.\n",
    "import seaborn as sns\n",
    "\n",
    "# Import for image and video analysis, useful for preprocessing.\n",
    "import cv2\n",
    "\n",
    "# Import for a powerful machine learning framework for neural networks.\n",
    "import tensorflow as tf\n",
    "\n",
    "# Import for a high-level neural networks API running on TensorFlow. Simplifies process of building and\n",
    "# training NNs\n",
    "import keras\n",
    "\n",
    "# A utility in Keras used for real-time data augmentation during model training. It helps generate augmented\n",
    "# images from existing data.\n",
    "from keras.preprocessing.image import ImageDataGenerator\n",
    "\n",
    "# Import for providing progress bars to track time-consuming tasks in loops. Quirky feature\n",
    "from tqdm import tqdm\n",
    "\n",
    "# Import for interacting with the operating system, e.g., navigating directories.\n",
    "import os\n",
    "\n",
    "# Import from Scikit-Learn for shuffling arrays or matrices, useful for data preparation.\n",
    "from sklearn.utils import shuffle\n",
    "\n",
    "# Import for splitting datasets into training and testing subsets.\n",
    "from sklearn.model_selection import train_test_split\n",
    "\n",
    "# A pre-trained deep convolutional neural network model available in Keras. EfficientNet models are known for\n",
    "# their efficiency and accuracy.\n",
    "from keras.applications import EfficientNetB0\n",
    "\n",
    "# EarlyStopping: A callback in Keras that stops training when a monitored metric (like validation loss) stops\n",
    "# improving.\n",
    "\n",
    "# ReduceLROnPlateau: A callback in Keras that reduces the learning rate when a metric has stopped improving (ie\n",
    "# it starts plateauing).\n",
    "# TensorBoard: A callback in Keras that allows you to visualize training and validation metrics in TensorBoard.\n",
    "# ModelCheckpoint: A callback in Keras that allows you to save the model after every epoch.\n",
    "from keras.callbacks import EarlyStopping, ReduceLROnPlateau, TensorBoard, ModelCheckpoint\n",
    "\n",
    "# A function from scikit-learn to generate a text report showing various classification metrics.\n",
    "# Classification metrics include precision, recall, F1 score, and support.\n",
    "# Precision: The ability of the classifier not to label as positive a sample that is negative.\n",
    "# Recall: The ability of the classifier to find all the positive samples.\n",
    "# F1 score: The weighted average of precision and recall.\n",
    "# Support: The number of occurrences of each class in y_true.\n",
    "# Confusion Matrix: A function from scikit-learn for creating a confusion matrix to evaluate classification\n",
    "# performance.\n",
    "from sklearn.metrics import classification_report, confusion_matrix\n",
    "\n",
    "# Import for interactive notebook widgets, images, and output.\n",
    "import ipywidgets as widgets\n",
    "import io\n",
    "from PIL import Image\n",
    "from IPython.display import display, clear_output\n",
    "\n",
    "# Import for suppressing warning messages to enhance readability.\n",
    "from warnings import filterwarnings\n"
   ],
   "metadata": {
    "collapsed": false
   }
  }
 ],
 "metadata": {
  "kernelspec": {
   "display_name": "Python 3",
   "language": "python",
   "name": "python3"
  },
  "language_info": {
   "codemirror_mode": {
    "name": "ipython",
    "version": 2
   },
   "file_extension": ".py",
   "mimetype": "text/x-python",
   "name": "python",
   "nbconvert_exporter": "python",
   "pygments_lexer": "ipython2",
   "version": "2.7.6"
  }
 },
 "nbformat": 4,
 "nbformat_minor": 0
}
